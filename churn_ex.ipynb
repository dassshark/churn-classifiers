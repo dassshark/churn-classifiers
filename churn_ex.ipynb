{
 "cells": [
  {
   "cell_type": "code",
   "execution_count": 2,
   "id": "3a6a07ad",
   "metadata": {},
   "outputs": [],
   "source": [
    "import pandas as pd\n",
    "import numpy as np\n",
    "import seaborn as sns\n",
    "from statistics import mean\n",
    "import sklearn\n",
    "from sklearn.utils import resample\n",
    "from sklearn import metrics\n",
    "from sklearn.feature_extraction.text import TfidfVectorizer\n",
    "from sklearn.model_selection import train_test_split\n",
    "from sklearn.linear_model import LogisticRegression\n",
    "from sklearn.naive_bayes import MultinomialNB\n",
    "from sklearn.feature_extraction.text import TfidfTransformer\n",
    "from sklearn.tree import DecisionTreeClassifier\n",
    "from sklearn.model_selection import cross_val_score\n",
    "from sklearn.preprocessing import LabelEncoder, OneHotEncoder\n",
    "from sklearn.metrics import accuracy_score, precision_score, recall_score, roc_auc_score, roc_curve, f1_score, precision_recall_curve, classification_report, confusion_matrix\n",
    "from sklearn.ensemble import RandomForestClassifier, GradientBoostingClassifier\n",
    "#from sklearn.metrics import precision_recall_curve, classification_report, confusion_matrix\n",
    "import matplotlib.pyplot as plt\n",
    "from sklearn.preprocessing import StandardScaler\n",
    "from matplotlib.pylab import rc, plot\n",
    "import itertools  \n",
    "from sklearn.utils import shuffle"
   ]
  },
  {
   "cell_type": "code",
   "execution_count": 3,
   "id": "65d2f989",
   "metadata": {
    "scrolled": true
   },
   "outputs": [
    {
     "data": {
      "text/html": [
       "<div>\n",
       "<style scoped>\n",
       "    .dataframe tbody tr th:only-of-type {\n",
       "        vertical-align: middle;\n",
       "    }\n",
       "\n",
       "    .dataframe tbody tr th {\n",
       "        vertical-align: top;\n",
       "    }\n",
       "\n",
       "    .dataframe thead th {\n",
       "        text-align: right;\n",
       "    }\n",
       "</style>\n",
       "<table border=\"1\" class=\"dataframe\">\n",
       "  <thead>\n",
       "    <tr style=\"text-align: right;\">\n",
       "      <th></th>\n",
       "      <th>RowNumber</th>\n",
       "      <th>CustomerId</th>\n",
       "      <th>Surname</th>\n",
       "      <th>CreditScore</th>\n",
       "      <th>Geography</th>\n",
       "      <th>Gender</th>\n",
       "      <th>Age</th>\n",
       "      <th>Tenure</th>\n",
       "      <th>Balance</th>\n",
       "      <th>NumOfProducts</th>\n",
       "      <th>HasCrCard</th>\n",
       "      <th>IsActiveMember</th>\n",
       "      <th>EstimatedSalary</th>\n",
       "      <th>Exited</th>\n",
       "    </tr>\n",
       "  </thead>\n",
       "  <tbody>\n",
       "    <tr>\n",
       "      <th>0</th>\n",
       "      <td>1</td>\n",
       "      <td>15634602</td>\n",
       "      <td>Hargrave</td>\n",
       "      <td>619</td>\n",
       "      <td>France</td>\n",
       "      <td>Female</td>\n",
       "      <td>42</td>\n",
       "      <td>2.0</td>\n",
       "      <td>0.00</td>\n",
       "      <td>1</td>\n",
       "      <td>1</td>\n",
       "      <td>1</td>\n",
       "      <td>101348.88</td>\n",
       "      <td>1</td>\n",
       "    </tr>\n",
       "    <tr>\n",
       "      <th>1</th>\n",
       "      <td>2</td>\n",
       "      <td>15647311</td>\n",
       "      <td>Hill</td>\n",
       "      <td>608</td>\n",
       "      <td>Spain</td>\n",
       "      <td>Female</td>\n",
       "      <td>41</td>\n",
       "      <td>1.0</td>\n",
       "      <td>83807.86</td>\n",
       "      <td>1</td>\n",
       "      <td>0</td>\n",
       "      <td>1</td>\n",
       "      <td>112542.58</td>\n",
       "      <td>0</td>\n",
       "    </tr>\n",
       "    <tr>\n",
       "      <th>2</th>\n",
       "      <td>3</td>\n",
       "      <td>15619304</td>\n",
       "      <td>Onio</td>\n",
       "      <td>502</td>\n",
       "      <td>France</td>\n",
       "      <td>Female</td>\n",
       "      <td>42</td>\n",
       "      <td>8.0</td>\n",
       "      <td>159660.80</td>\n",
       "      <td>3</td>\n",
       "      <td>1</td>\n",
       "      <td>0</td>\n",
       "      <td>113931.57</td>\n",
       "      <td>1</td>\n",
       "    </tr>\n",
       "    <tr>\n",
       "      <th>3</th>\n",
       "      <td>4</td>\n",
       "      <td>15701354</td>\n",
       "      <td>Boni</td>\n",
       "      <td>699</td>\n",
       "      <td>France</td>\n",
       "      <td>Female</td>\n",
       "      <td>39</td>\n",
       "      <td>1.0</td>\n",
       "      <td>0.00</td>\n",
       "      <td>2</td>\n",
       "      <td>0</td>\n",
       "      <td>0</td>\n",
       "      <td>93826.63</td>\n",
       "      <td>0</td>\n",
       "    </tr>\n",
       "    <tr>\n",
       "      <th>4</th>\n",
       "      <td>5</td>\n",
       "      <td>15737888</td>\n",
       "      <td>Mitchell</td>\n",
       "      <td>850</td>\n",
       "      <td>Spain</td>\n",
       "      <td>Female</td>\n",
       "      <td>43</td>\n",
       "      <td>2.0</td>\n",
       "      <td>125510.82</td>\n",
       "      <td>1</td>\n",
       "      <td>1</td>\n",
       "      <td>1</td>\n",
       "      <td>79084.10</td>\n",
       "      <td>0</td>\n",
       "    </tr>\n",
       "  </tbody>\n",
       "</table>\n",
       "</div>"
      ],
      "text/plain": [
       "   RowNumber  CustomerId   Surname  CreditScore Geography  Gender  Age  \\\n",
       "0          1    15634602  Hargrave          619    France  Female   42   \n",
       "1          2    15647311      Hill          608     Spain  Female   41   \n",
       "2          3    15619304      Onio          502    France  Female   42   \n",
       "3          4    15701354      Boni          699    France  Female   39   \n",
       "4          5    15737888  Mitchell          850     Spain  Female   43   \n",
       "\n",
       "   Tenure    Balance  NumOfProducts  HasCrCard  IsActiveMember  \\\n",
       "0     2.0       0.00              1          1               1   \n",
       "1     1.0   83807.86              1          0               1   \n",
       "2     8.0  159660.80              3          1               0   \n",
       "3     1.0       0.00              2          0               0   \n",
       "4     2.0  125510.82              1          1               1   \n",
       "\n",
       "   EstimatedSalary  Exited  \n",
       "0        101348.88       1  \n",
       "1        112542.58       0  \n",
       "2        113931.57       1  \n",
       "3         93826.63       0  \n",
       "4         79084.10       0  "
      ]
     },
     "execution_count": 3,
     "metadata": {},
     "output_type": "execute_result"
    }
   ],
   "source": [
    "df = pd.read_csv('Churn.csv')\n",
    "df.head()"
   ]
  },
  {
   "cell_type": "code",
   "execution_count": 4,
   "id": "aaf9b676",
   "metadata": {},
   "outputs": [
    {
     "name": "stdout",
     "output_type": "stream",
     "text": [
      "<class 'pandas.core.frame.DataFrame'>\n",
      "RangeIndex: 10000 entries, 0 to 9999\n",
      "Data columns (total 14 columns):\n",
      " #   Column           Non-Null Count  Dtype  \n",
      "---  ------           --------------  -----  \n",
      " 0   RowNumber        10000 non-null  int64  \n",
      " 1   CustomerId       10000 non-null  int64  \n",
      " 2   Surname          10000 non-null  object \n",
      " 3   CreditScore      10000 non-null  int64  \n",
      " 4   Geography        10000 non-null  object \n",
      " 5   Gender           10000 non-null  object \n",
      " 6   Age              10000 non-null  int64  \n",
      " 7   Tenure           9091 non-null   float64\n",
      " 8   Balance          10000 non-null  float64\n",
      " 9   NumOfProducts    10000 non-null  int64  \n",
      " 10  HasCrCard        10000 non-null  int64  \n",
      " 11  IsActiveMember   10000 non-null  int64  \n",
      " 12  EstimatedSalary  10000 non-null  float64\n",
      " 13  Exited           10000 non-null  int64  \n",
      "dtypes: float64(3), int64(8), object(3)\n",
      "memory usage: 1.1+ MB\n"
     ]
    }
   ],
   "source": [
    "df.info('Churn.csv')"
   ]
  },
  {
   "cell_type": "code",
   "execution_count": 5,
   "id": "b3488080",
   "metadata": {},
   "outputs": [],
   "source": [
    "table = df.drop(['RowNumber', 'CustomerId', 'Surname', 'Exited'], axis=1)"
   ]
  },
  {
   "cell_type": "code",
   "execution_count": 6,
   "id": "88e9bb8d",
   "metadata": {},
   "outputs": [
    {
     "data": {
      "text/html": [
       "<div>\n",
       "<style scoped>\n",
       "    .dataframe tbody tr th:only-of-type {\n",
       "        vertical-align: middle;\n",
       "    }\n",
       "\n",
       "    .dataframe tbody tr th {\n",
       "        vertical-align: top;\n",
       "    }\n",
       "\n",
       "    .dataframe thead th {\n",
       "        text-align: right;\n",
       "    }\n",
       "</style>\n",
       "<table border=\"1\" class=\"dataframe\">\n",
       "  <thead>\n",
       "    <tr style=\"text-align: right;\">\n",
       "      <th></th>\n",
       "      <th>CreditScore</th>\n",
       "      <th>Geography</th>\n",
       "      <th>Gender</th>\n",
       "      <th>Age</th>\n",
       "      <th>Tenure</th>\n",
       "      <th>Balance</th>\n",
       "      <th>NumOfProducts</th>\n",
       "      <th>HasCrCard</th>\n",
       "      <th>IsActiveMember</th>\n",
       "      <th>EstimatedSalary</th>\n",
       "    </tr>\n",
       "  </thead>\n",
       "  <tbody>\n",
       "    <tr>\n",
       "      <th>0</th>\n",
       "      <td>619</td>\n",
       "      <td>France</td>\n",
       "      <td>Female</td>\n",
       "      <td>42</td>\n",
       "      <td>2.0</td>\n",
       "      <td>0.00</td>\n",
       "      <td>1</td>\n",
       "      <td>1</td>\n",
       "      <td>1</td>\n",
       "      <td>101348.88</td>\n",
       "    </tr>\n",
       "    <tr>\n",
       "      <th>1</th>\n",
       "      <td>608</td>\n",
       "      <td>Spain</td>\n",
       "      <td>Female</td>\n",
       "      <td>41</td>\n",
       "      <td>1.0</td>\n",
       "      <td>83807.86</td>\n",
       "      <td>1</td>\n",
       "      <td>0</td>\n",
       "      <td>1</td>\n",
       "      <td>112542.58</td>\n",
       "    </tr>\n",
       "    <tr>\n",
       "      <th>2</th>\n",
       "      <td>502</td>\n",
       "      <td>France</td>\n",
       "      <td>Female</td>\n",
       "      <td>42</td>\n",
       "      <td>8.0</td>\n",
       "      <td>159660.80</td>\n",
       "      <td>3</td>\n",
       "      <td>1</td>\n",
       "      <td>0</td>\n",
       "      <td>113931.57</td>\n",
       "    </tr>\n",
       "    <tr>\n",
       "      <th>3</th>\n",
       "      <td>699</td>\n",
       "      <td>France</td>\n",
       "      <td>Female</td>\n",
       "      <td>39</td>\n",
       "      <td>1.0</td>\n",
       "      <td>0.00</td>\n",
       "      <td>2</td>\n",
       "      <td>0</td>\n",
       "      <td>0</td>\n",
       "      <td>93826.63</td>\n",
       "    </tr>\n",
       "    <tr>\n",
       "      <th>4</th>\n",
       "      <td>850</td>\n",
       "      <td>Spain</td>\n",
       "      <td>Female</td>\n",
       "      <td>43</td>\n",
       "      <td>2.0</td>\n",
       "      <td>125510.82</td>\n",
       "      <td>1</td>\n",
       "      <td>1</td>\n",
       "      <td>1</td>\n",
       "      <td>79084.10</td>\n",
       "    </tr>\n",
       "  </tbody>\n",
       "</table>\n",
       "</div>"
      ],
      "text/plain": [
       "   CreditScore Geography  Gender  Age  Tenure    Balance  NumOfProducts  \\\n",
       "0          619    France  Female   42     2.0       0.00              1   \n",
       "1          608     Spain  Female   41     1.0   83807.86              1   \n",
       "2          502    France  Female   42     8.0  159660.80              3   \n",
       "3          699    France  Female   39     1.0       0.00              2   \n",
       "4          850     Spain  Female   43     2.0  125510.82              1   \n",
       "\n",
       "   HasCrCard  IsActiveMember  EstimatedSalary  \n",
       "0          1               1        101348.88  \n",
       "1          0               1        112542.58  \n",
       "2          1               0        113931.57  \n",
       "3          0               0         93826.63  \n",
       "4          1               1         79084.10  "
      ]
     },
     "execution_count": 6,
     "metadata": {},
     "output_type": "execute_result"
    }
   ],
   "source": [
    "table.head()"
   ]
  },
  {
   "cell_type": "code",
   "execution_count": 7,
   "id": "7dfed80a",
   "metadata": {},
   "outputs": [],
   "source": [
    "fd = df['Tenure'].mean()\n",
    "table = table.fillna(fd)"
   ]
  },
  {
   "cell_type": "code",
   "execution_count": 8,
   "id": "3567fe53",
   "metadata": {},
   "outputs": [],
   "source": [
    "features = pd.get_dummies(table)\n",
    "target = df['Exited']"
   ]
  },
  {
   "cell_type": "code",
   "execution_count": 9,
   "id": "c900e00e",
   "metadata": {},
   "outputs": [
    {
     "name": "stdout",
     "output_type": "stream",
     "text": [
      "(6700, 13) (1815, 13) (1485, 13)\n",
      "(6700,) (1815,) (1485,)\n"
     ]
    }
   ],
   "source": [
    "features_train, features_valid, target_train, target_valid = train_test_split(features, target, test_size=0.33, random_state=12345)\n",
    "features_valid, features_test, target_valid, target_test = train_test_split(features_valid, target_valid, test_size=0.45, random_state=12345)\n",
    "print(features_train.shape, features_valid.shape, features_test.shape)\n",
    "print(target_train.shape, target_valid.shape, target_test.shape)"
   ]
  },
  {
   "cell_type": "code",
   "execution_count": 10,
   "id": "f59988e9",
   "metadata": {},
   "outputs": [],
   "source": [
    "pd.options.mode.chained_assignment = None\n",
    "scaler=StandardScaler()\n",
    "numeric=['CreditScore', 'Age', 'Tenure', 'Balance', 'NumOfProducts', 'EstimatedSalary']\n",
    "scaler.fit(features_train[numeric])\n",
    "features_train[numeric]=scaler.transform(features_train[numeric])\n",
    "features_valid[numeric]=scaler.transform(features_valid[numeric])\n",
    "features_test[numeric]=scaler.transform(features_test[numeric])"
   ]
  },
  {
   "cell_type": "code",
   "execution_count": 11,
   "id": "cc6ca228",
   "metadata": {},
   "outputs": [
    {
     "data": {
      "text/plain": [
       "0    7963\n",
       "1    2037\n",
       "Name: Exited, dtype: int64"
      ]
     },
     "execution_count": 11,
     "metadata": {},
     "output_type": "execute_result"
    },
    {
     "data": {
      "image/png": "[encoded data removed]",
      "text/plain": [
       "<Figure size 432x288 with 1 Axes>"
      ]
     },
     "metadata": {
      "needs_background": "light"
     },
     "output_type": "display_data"
    }
   ],
   "source": [
    "df['Exited'].value_counts().plot(kind='bar', grid=True,figsize=(6,4))\n",
    "df['Exited'].value_counts()"
   ]
  },
  {
   "cell_type": "code",
   "execution_count": 12,
   "id": "db22c3fb",
   "metadata": {},
   "outputs": [],
   "source": [
    "clf = DecisionTreeClassifier(random_state=1000, max_depth=5)\n",
    "clf = clf.fit(features_train, target_train)\n",
    "pred = clf.predict(features_valid)\n",
    "#print(clf.tree_.max_depth)"
   ]
  },
  {
   "cell_type": "code",
   "execution_count": 13,
   "id": "b3abb608",
   "metadata": {},
   "outputs": [
    {
     "data": {
      "text/plain": [
       "0.8473829201101928"
      ]
     },
     "execution_count": 13,
     "metadata": {},
     "output_type": "execute_result"
    }
   ],
   "source": [
    "clf.score(features_valid, target_valid)"
   ]
  },
  {
   "cell_type": "code",
   "execution_count": 14,
   "id": "10f95824",
   "metadata": {},
   "outputs": [
    {
     "name": "stdout",
     "output_type": "stream",
     "text": [
      "0.8473829201101928 0.7511111111111111 0.43333333333333335 0.5495934959349593\n"
     ]
    }
   ],
   "source": [
    "print(accuracy_score(target_valid, pred),\n",
    "precision_score(target_valid, pred),\n",
    "recall_score(target_valid, pred),\n",
    "f1_score(target_valid, pred))"
   ]
  },
  {
   "cell_type": "code",
   "execution_count": 15,
   "id": "f0b430c3",
   "metadata": {},
   "outputs": [
    {
     "data": {
      "text/plain": [
       "0.8323283850652272"
      ]
     },
     "execution_count": 15,
     "metadata": {},
     "output_type": "execute_result"
    }
   ],
   "source": [
    "proba_valid = clf.predict_proba(features_valid)[:, 1]\n",
    "roc_auc_score(target_valid, proba_valid)"
   ]
  },
  {
   "cell_type": "code",
   "execution_count": 16,
   "id": "0db48a14",
   "metadata": {},
   "outputs": [],
   "source": [
    "clf_2 = RandomForestClassifier(n_estimators=65,\n",
    "                               random_state = 12345,\n",
    "                               max_depth=20)\n",
    "clf_2 = clf_2.fit(features_train, target_train)\n",
    "pred = clf_2.predict(features_valid)"
   ]
  },
  {
   "cell_type": "code",
   "execution_count": 17,
   "id": "1955d34c",
   "metadata": {},
   "outputs": [
    {
     "name": "stdout",
     "output_type": "stream",
     "text": [
      "0.8534435261707989 0.7540983606557377 0.4717948717948718 0.5804416403785488\n"
     ]
    }
   ],
   "source": [
    "print(accuracy_score(target_valid, pred),\n",
    "precision_score(target_valid, pred),\n",
    "recall_score(target_valid, pred),\n",
    "f1_score(target_valid, pred))"
   ]
  },
  {
   "cell_type": "code",
   "execution_count": 18,
   "id": "cf644178",
   "metadata": {},
   "outputs": [
    {
     "data": {
      "text/plain": [
       "0.83982995951417"
      ]
     },
     "execution_count": 18,
     "metadata": {},
     "output_type": "execute_result"
    }
   ],
   "source": [
    "proba_valid = clf_2.predict_proba(features_valid)[:, 1]\n",
    "roc_auc_score(target_valid, proba_valid)"
   ]
  },
  {
   "cell_type": "code",
   "execution_count": 19,
   "id": "7a71b0c8",
   "metadata": {},
   "outputs": [],
   "source": [
    "clf_3 = LogisticRegression(random_state=12345)\n",
    "clf_3 = clf_3.fit(features_train, target_train)\n",
    "pred = clf_3.predict(features_valid)"
   ]
  },
  {
   "cell_type": "code",
   "execution_count": 20,
   "id": "efc95f34",
   "metadata": {},
   "outputs": [
    {
     "name": "stdout",
     "output_type": "stream",
     "text": [
      "0.7928374655647383 0.5486111111111112 0.20256410256410257 0.29588014981273414\n"
     ]
    }
   ],
   "source": [
    "print(accuracy_score(target_valid, pred),\n",
    "precision_score(target_valid, pred),\n",
    "recall_score(target_valid, pred),\n",
    "f1_score(target_valid, pred))"
   ]
  },
  {
   "cell_type": "code",
   "execution_count": 21,
   "id": "cb5519d1",
   "metadata": {},
   "outputs": [
    {
     "data": {
      "text/plain": [
       "0.83982995951417"
      ]
     },
     "execution_count": 21,
     "metadata": {},
     "output_type": "execute_result"
    }
   ],
   "source": [
    "proba_valid = clf_2.predict_proba(features_valid)[:, 1]\n",
    "roc_auc_score(target_valid, proba_valid)"
   ]
  },
  {
   "cell_type": "code",
   "execution_count": 105,
   "id": "fa4fc1ee",
   "metadata": {},
   "outputs": [
    {
     "name": "stdout",
     "output_type": "stream",
     "text": [
      "Confusion matrix, without normalization\n",
      "[[521 215]\n",
      " [164 377]]\n"
     ]
    },
    {
     "data": {
      "image/png": "[encoded data removed]",
      "text/plain": [
       "<Figure size 720x576 with 2 Axes>"
      ]
     },
     "metadata": {},
     "output_type": "display_data"
    }
   ],
   "source": [
    "def plot_confusion_matrix(cm, classes,\n",
    "                          normalize=False,\n",
    "                          title='Confusion matrix',\n",
    "                          cmap=plt.cm.Blues):\n",
    "\n",
    "    plt.imshow(cm, interpolation='nearest', cmap=cmap)\n",
    "    plt.title(title)\n",
    "    plt.colorbar()\n",
    "    tick_marks = np.arange(len(classes))\n",
    "    plt.xticks(tick_marks, classes, rotation=45)\n",
    "    plt.yticks(tick_marks, classes)\n",
    "\n",
    "    if normalize:\n",
    "        cm = cm.astype('float') / cm.sum(axis=1)[:, np.newaxis]\n",
    "        print(\"Normalized confusion matrix\")\n",
    "    else:\n",
    "        print('Confusion matrix, without normalization')\n",
    "\n",
    "    print(cm)\n",
    "\n",
    "    thresh = cm.max() / 2.\n",
    "    for i, j in itertools.product(range(cm.shape[0]), range(cm.shape[1])):\n",
    "        plt.text(j, i, cm[i, j],\n",
    "                 horizontalalignment=\"center\",\n",
    "                 color=\"white\" if cm[i, j] > thresh else \"black\")\n",
    "\n",
    "    plt.tight_layout()\n",
    "    plt.ylabel('True label')\n",
    "    plt.xlabel('Predicted label')\n",
    "\n",
    "font = {'size' : 15}\n",
    "\n",
    "plt.rc('font', **font)\n",
    "\n",
    "cnf_matrix = sklearn.metrics.confusion_matrix(target_valid, clf_2.predict(features_valid))\n",
    "plt.figure(figsize=(10, 8))\n",
    "plot_confusion_matrix(cnf_matrix, classes=['Non-churned', 'Churned'],\n",
    "                      title='Confusion matrix')\n",
    "plt.savefig(\"conf_matrix.png\")\n",
    "plt.show()"
   ]
  },
  {
   "cell_type": "code",
   "execution_count": 23,
   "id": "68bbaab7",
   "metadata": {},
   "outputs": [
    {
     "name": "stdout",
     "output_type": "stream",
     "text": [
      "              precision    recall  f1-score   support\n",
      "\n",
      " Non-churned       0.87      0.96      0.91      1425\n",
      "     Churned       0.75      0.47      0.58       390\n",
      "\n",
      "    accuracy                           0.85      1815\n",
      "   macro avg       0.81      0.71      0.75      1815\n",
      "weighted avg       0.84      0.85      0.84      1815\n",
      "\n"
     ]
    }
   ],
   "source": [
    "report = classification_report(target_valid, clf_2.predict(features_valid), target_names=['Non-churned', 'Churned'])\n",
    "print(report)"
   ]
  },
  {
   "cell_type": "code",
   "execution_count": 24,
   "id": "5c7063d6",
   "metadata": {},
   "outputs": [
    {
     "data": {
      "image/png": "[encoded data removed]",
      "text/plain": [
       "<Figure size 720x576 with 1 Axes>"
      ]
     },
     "metadata": {},
     "output_type": "display_data"
    }
   ],
   "source": [
    "sns.set(font_scale=1.5)\n",
    "sns.set_color_codes(\"muted\")\n",
    "\n",
    "plt.figure(figsize=(10, 8))\n",
    "fpr, tpr, thresholds = roc_curve(target_valid, clf_2.predict_proba(features_valid)[:,1], pos_label=1)\n",
    "lw = 2\n",
    "plt.plot(fpr, tpr, lw=lw, label='ROC curve ')\n",
    "plt.plot([0, 1], [0, 1])\n",
    "plt.xlim([0.0, 1.0])\n",
    "plt.ylim([0.0, 1.05])\n",
    "plt.xlabel('False Positive Rate')\n",
    "plt.ylabel('True Positive Rate')\n",
    "plt.title('ROC curve')\n",
    "plt.savefig(\"ROC.png\")\n",
    "plt.show()"
   ]
  },
  {
   "cell_type": "code",
   "execution_count": 25,
   "id": "a66f74e5",
   "metadata": {},
   "outputs": [
    {
     "data": {
      "text/plain": [
       "0.7851239669421488"
      ]
     },
     "execution_count": 25,
     "metadata": {},
     "output_type": "execute_result"
    }
   ],
   "source": [
    "prediction = pd.Series([0 for i in target_valid])\n",
    "accuracy_score(target_valid, prediction)"
   ]
  },
  {
   "cell_type": "code",
   "execution_count": 26,
   "id": "035aadb6",
   "metadata": {},
   "outputs": [
    {
     "data": {
      "text/plain": [
       "0.2008955223880597"
      ]
     },
     "execution_count": 26,
     "metadata": {},
     "output_type": "execute_result"
    }
   ],
   "source": [
    "np.mean(target_train)"
   ]
  },
  {
   "cell_type": "code",
   "execution_count": 27,
   "id": "339d31f0",
   "metadata": {},
   "outputs": [
    {
     "name": "stdout",
     "output_type": "stream",
     "text": [
      "Optimal depth 5 Optimal F1 0.598639455782313\n"
     ]
    }
   ],
   "source": [
    "received_f1 = 0\n",
    "received_d = 0\n",
    "for d in range(1, 20): \n",
    "    clf = DecisionTreeClassifier(random_state=12345, max_depth=d, class_weight='balanced')\n",
    "    clf.fit(features_train,target_train)\n",
    "    pred = clf.predict(features_valid)\n",
    "    f1 = f1_score(target_valid, pred)\n",
    "    if f1>received_f1:\n",
    "            received_f1=f1\n",
    "            received_d=d\n",
    "print('Optimal depth', received_d,'Optimal F1', received_f1)"
   ]
  },
  {
   "cell_type": "code",
   "execution_count": 28,
   "id": "5e7d7b50",
   "metadata": {},
   "outputs": [],
   "source": [
    "clf = DecisionTreeClassifier(random_state=1000, max_depth=received_d, class_weight='balanced')\n",
    "clf = clf.fit(features_train, target_train)\n",
    "pred = clf.predict(features_valid)"
   ]
  },
  {
   "cell_type": "code",
   "execution_count": 29,
   "id": "8450f628",
   "metadata": {},
   "outputs": [
    {
     "name": "stdout",
     "output_type": "stream",
     "text": [
      "0.8049586776859504 0.5365853658536586 0.676923076923077 0.598639455782313\n"
     ]
    }
   ],
   "source": [
    "print(accuracy_score(target_valid, pred),\n",
    "precision_score(target_valid, pred),\n",
    "recall_score(target_valid, pred),\n",
    "f1_score(target_valid, pred))"
   ]
  },
  {
   "cell_type": "code",
   "execution_count": 30,
   "id": "20b42eee",
   "metadata": {},
   "outputs": [
    {
     "name": "stdout",
     "output_type": "stream",
     "text": [
      "Optimal depth 6 n_estimators = 94 Optimal F1 0.6146993318485523\n"
     ]
    }
   ],
   "source": [
    "received_f1 = 0\n",
    "received_d = 0\n",
    "received_est = 0\n",
    "for est in range (90, 95):\n",
    "    for d in range(1, 25):\n",
    "        clf_2 = RandomForestClassifier(n_estimators=est, max_depth=d, random_state=12345, class_weight='balanced')\n",
    "        clf_2.fit(features_train, target_train)\n",
    "        pred= clf_2.predict(features_valid)\n",
    "        f1 = f1_score(target_valid, pred)\n",
    "        if f1>received_f1:\n",
    "            received_f1=f1\n",
    "            received_est=est\n",
    "            received_d=d      \n",
    "print('Optimal depth', received_d,'n_estimators =', received_est, 'Optimal F1', received_f1)"
   ]
  },
  {
   "cell_type": "code",
   "execution_count": 31,
   "id": "ac177985",
   "metadata": {},
   "outputs": [],
   "source": [
    "clf_2 = RandomForestClassifier(n_estimators=received_est,\n",
    "                               random_state = 12345,\n",
    "                               max_depth=received_d,\n",
    "                              class_weight='balanced')\n",
    "clf_2 = clf_2.fit(features_train, target_train)\n",
    "pred = clf_2.predict(features_valid)"
   ]
  },
  {
   "cell_type": "code",
   "execution_count": 32,
   "id": "418ca2ec",
   "metadata": {},
   "outputs": [
    {
     "name": "stdout",
     "output_type": "stream",
     "text": [
      "0.809366391184573 0.5433070866141733 0.7076923076923077 0.6146993318485523\n"
     ]
    }
   ],
   "source": [
    "print(accuracy_score(target_valid, pred),\n",
    "precision_score(target_valid, pred),\n",
    "recall_score(target_valid, pred),\n",
    "f1_score(target_valid, pred))"
   ]
  },
  {
   "cell_type": "code",
   "execution_count": 33,
   "id": "05f31330",
   "metadata": {},
   "outputs": [],
   "source": [
    "clf_3 = LogisticRegression(class_weight='balanced')\n",
    "clf_3 = clf_3.fit(features_train, target_train)\n",
    "pred = clf_3.predict(features_valid)"
   ]
  },
  {
   "cell_type": "code",
   "execution_count": 34,
   "id": "558e1510",
   "metadata": {},
   "outputs": [
    {
     "name": "stdout",
     "output_type": "stream",
     "text": [
      "0.6964187327823691 0.3838383838383838 0.6820512820512821 0.4912280701754385\n"
     ]
    }
   ],
   "source": [
    "print(accuracy_score(target_valid, pred),\n",
    "precision_score(target_valid, pred),\n",
    "recall_score(target_valid, pred),\n",
    "f1_score(target_valid, pred))"
   ]
  },
  {
   "cell_type": "code",
   "execution_count": 35,
   "id": "e0db3dcf",
   "metadata": {},
   "outputs": [
    {
     "data": {
      "text/plain": [
       "3"
      ]
     },
     "execution_count": 35,
     "metadata": {},
     "output_type": "execute_result"
    }
   ],
   "source": [
    "mult = len(df.loc[df['Exited']==0])//len(df.loc[df['Exited']==1])\n",
    "mult"
   ]
  },
  {
   "cell_type": "code",
   "execution_count": 80,
   "id": "ea6e8ce0",
   "metadata": {},
   "outputs": [],
   "source": [
    "df_1 = df.loc[df['Exited']==1]\n",
    "df_1 = df_1.loc[df_1.index.repeat(mult)]\n",
    "train_n = pd.concat([df.loc[df['Exited']==0], df_1]).sample(frac=1)"
   ]
  },
  {
   "cell_type": "code",
   "execution_count": 81,
   "id": "082e7e61",
   "metadata": {},
   "outputs": [
    {
     "data": {
      "text/plain": [
       "0    7963\n",
       "1    6111\n",
       "Name: Exited, dtype: int64"
      ]
     },
     "execution_count": 81,
     "metadata": {},
     "output_type": "execute_result"
    }
   ],
   "source": [
    "train_n['Exited'].value_counts()"
   ]
  },
  {
   "cell_type": "code",
   "execution_count": 82,
   "id": "b991d0de",
   "metadata": {},
   "outputs": [],
   "source": [
    "table = train_n.drop(['RowNumber', 'CustomerId', 'Surname', 'Exited'], axis=1)"
   ]
  },
  {
   "cell_type": "code",
   "execution_count": 83,
   "id": "f8456688",
   "metadata": {},
   "outputs": [],
   "source": [
    "fd = df['Tenure'].mean()\n",
    "table = table.fillna(fd)\n",
    "features = pd.get_dummies(table)\n",
    "target = train_n['Exited']\n",
    "features_train, features_valid, target_train, target_valid = train_test_split(features, target, test_size=0.3)"
   ]
  },
  {
   "cell_type": "code",
   "execution_count": 84,
   "id": "e2f5abb6",
   "metadata": {},
   "outputs": [],
   "source": [
    "pd.options.mode.chained_assignment = None\n",
    "scaler=StandardScaler()\n",
    "numeric=['CreditScore', 'Age', 'Tenure', 'Balance', 'NumOfProducts', 'EstimatedSalary']\n",
    "scaler.fit(features_train[numeric])\n",
    "features_train[numeric]=scaler.transform(features_train[numeric])\n",
    "features_valid[numeric]=scaler.transform(features_valid[numeric])\n",
    "features_test[numeric]=scaler.transform(features_test[numeric])"
   ]
  },
  {
   "cell_type": "code",
   "execution_count": 41,
   "id": "f62186e2",
   "metadata": {},
   "outputs": [
    {
     "name": "stdout",
     "output_type": "stream",
     "text": [
      "Optimal depth 19 Optimal F1 0.8724216959511076\n",
      "0.8811271607861709 0.8080188679245283 0.9474557522123894 0.8721995926680244\n"
     ]
    }
   ],
   "source": [
    "received_f1 = 0\n",
    "received_d = 0\n",
    "for d in range(1, 20): \n",
    "    clf = DecisionTreeClassifier(random_state=12345, max_depth=d, class_weight='balanced')\n",
    "    clf.fit(features_train,target_train)\n",
    "    pred = clf.predict(features_valid)\n",
    "    f1 = f1_score(target_valid, pred)\n",
    "    if f1>received_f1:\n",
    "            received_f1=f1\n",
    "            received_d=d\n",
    "print('Optimal depth', received_d,'Optimal F1', received_f1)\n",
    "\n",
    "clf = DecisionTreeClassifier(random_state=1000, max_depth=received_d, class_weight='balanced')\n",
    "clf = clf.fit(features_train, target_train)\n",
    "pred = clf.predict(features_valid)\n",
    "\n",
    "print(accuracy_score(target_valid, pred),\n",
    "precision_score(target_valid, pred),\n",
    "recall_score(target_valid, pred),\n",
    "f1_score(target_valid, pred))"
   ]
  },
  {
   "cell_type": "code",
   "execution_count": 85,
   "id": "5b8e5dc4",
   "metadata": {},
   "outputs": [
    {
     "name": "stdout",
     "output_type": "stream",
     "text": [
      "Optimal depth 21 n_estimators = 90 Optimal F1 0.9373706004140786\n",
      "0.9426947667534927 0.9045954045954046 0.972610096670247 0.9373706004140786\n"
     ]
    }
   ],
   "source": [
    "received_f1 = 0\n",
    "received_d = 0\n",
    "received_est = 0\n",
    "for est in range (90, 95):\n",
    "    for d in range(1, 25):\n",
    "        clf_2 = RandomForestClassifier(n_estimators=est, max_depth=d, random_state=12345, class_weight='balanced')\n",
    "        clf_2.fit(features_train, target_train)\n",
    "        pred= clf_2.predict(features_valid)\n",
    "        f1 = f1_score(target_valid, pred)\n",
    "        if f1>received_f1:\n",
    "            received_f1=f1\n",
    "            received_est=est\n",
    "            received_d=d      \n",
    "print('Optimal depth', received_d,'n_estimators =', received_est, 'Optimal F1', received_f1)\n",
    "\n",
    "\n",
    "clf_2 = RandomForestClassifier(n_estimators=received_est,\n",
    "                               random_state = 12345,\n",
    "                               max_depth=received_d,\n",
    "                              class_weight='balanced')\n",
    "clf_2 = clf_2.fit(features_train, target_train)\n",
    "pred = clf_2.predict(features_valid)\n",
    "\n",
    "\n",
    "print(accuracy_score(target_valid, pred),\n",
    "precision_score(target_valid, pred),\n",
    "recall_score(target_valid, pred),\n",
    "f1_score(target_valid, pred))"
   ]
  },
  {
   "cell_type": "code",
   "execution_count": 43,
   "id": "c2691211",
   "metadata": {},
   "outputs": [
    {
     "name": "stdout",
     "output_type": "stream",
     "text": [
      "0.7068434762017524 0.6466049382716049 0.6952433628318584 0.670042643923241\n"
     ]
    }
   ],
   "source": [
    "clf_3 = LogisticRegression(class_weight='balanced')\n",
    "clf_3 = clf_3.fit(features_train, target_train)\n",
    "pred = clf_3.predict(features_valid)\n",
    "\n",
    "\n",
    "print(accuracy_score(target_valid, pred),\n",
    "precision_score(target_valid, pred),\n",
    "recall_score(target_valid, pred),\n",
    "f1_score(target_valid, pred))"
   ]
  },
  {
   "cell_type": "code",
   "execution_count": 44,
   "id": "6469dbb1",
   "metadata": {},
   "outputs": [],
   "source": [
    "no_ex = df[df[\"Exited\"] == 0]\n",
    "ex = df[df[\"Exited\"] == 1]"
   ]
  },
  {
   "cell_type": "code",
   "execution_count": 45,
   "id": "dab29d40",
   "metadata": {},
   "outputs": [
    {
     "name": "stdout",
     "output_type": "stream",
     "text": [
      "(2037, 14)\n"
     ]
    }
   ],
   "source": [
    "no_ex_downsample = resample(no_ex,\n",
    "             replace=True,\n",
    "             n_samples=len(ex),\n",
    "             random_state=42)\n",
    "\n",
    "print(no_ex_downsample.shape)"
   ]
  },
  {
   "cell_type": "code",
   "execution_count": 46,
   "id": "fbfe3787",
   "metadata": {},
   "outputs": [],
   "source": [
    "data_downsampled = pd.concat([no_ex_downsample, ex])"
   ]
  },
  {
   "cell_type": "code",
   "execution_count": 47,
   "id": "d4d0b84e",
   "metadata": {},
   "outputs": [
    {
     "data": {
      "text/plain": [
       "0    2037\n",
       "1    2037\n",
       "Name: Exited, dtype: int64"
      ]
     },
     "execution_count": 47,
     "metadata": {},
     "output_type": "execute_result"
    }
   ],
   "source": [
    "data_downsampled['Exited'].value_counts()"
   ]
  },
  {
   "cell_type": "code",
   "execution_count": 72,
   "id": "5bfe46e4",
   "metadata": {},
   "outputs": [],
   "source": [
    "table = data_downsampled.drop(['RowNumber', 'CustomerId', 'Surname', 'Exited'], axis=1)\n"
   ]
  },
  {
   "cell_type": "code",
   "execution_count": 73,
   "id": "e1c07291",
   "metadata": {},
   "outputs": [],
   "source": [
    "fd = df['Tenure'].mean()\n",
    "table = table.fillna(fd)\n",
    "features = pd.get_dummies(table)\n",
    "target = data_downsampled['Exited']\n",
    "features_train, features_valid, target_train, target_valid = train_test_split(features, target, test_size=0.3)"
   ]
  },
  {
   "cell_type": "code",
   "execution_count": 74,
   "id": "23b40ccf",
   "metadata": {},
   "outputs": [],
   "source": [
    "pd.options.mode.chained_assignment = None\n",
    "scaler=StandardScaler()\n",
    "numeric=['CreditScore', 'Age', 'Tenure', 'Balance', 'NumOfProducts', 'EstimatedSalary']\n",
    "scaler.fit(features_train[numeric])\n",
    "features_train[numeric]=scaler.transform(features_train[numeric])\n",
    "features_valid[numeric]=scaler.transform(features_valid[numeric])\n",
    "features_test[numeric]=scaler.transform(features_test[numeric])"
   ]
  },
  {
   "cell_type": "code",
   "execution_count": 51,
   "id": "d71877e0",
   "metadata": {},
   "outputs": [
    {
     "name": "stdout",
     "output_type": "stream",
     "text": [
      "Optimal depth 6 Optimal F1 0.7709677419354839\n",
      "0.7669664758789861 0.7794117647058824 0.7607655502392344 0.7699757869249395\n"
     ]
    }
   ],
   "source": [
    "received_f1 = 0\n",
    "received_d = 0\n",
    "for d in range(1, 20): \n",
    "    clf = DecisionTreeClassifier(random_state=12345, max_depth=d, class_weight='balanced')\n",
    "    clf.fit(features_train,target_train)\n",
    "    pred = clf.predict(features_valid)\n",
    "    f1 = f1_score(target_valid, pred)\n",
    "    if f1>received_f1:\n",
    "            received_f1=f1\n",
    "            received_d=d\n",
    "print('Optimal depth', received_d,'Optimal F1', received_f1)\n",
    "\n",
    "clf = DecisionTreeClassifier(random_state=1000, max_depth=received_d, class_weight='balanced')\n",
    "clf = clf.fit(features_train, target_train)\n",
    "pred = clf.predict(features_valid)\n",
    "\n",
    "print(accuracy_score(target_valid, pred),\n",
    "precision_score(target_valid, pred),\n",
    "recall_score(target_valid, pred),\n",
    "f1_score(target_valid, pred))"
   ]
  },
  {
   "cell_type": "code",
   "execution_count": 52,
   "id": "63762d20",
   "metadata": {},
   "outputs": [
    {
     "name": "stdout",
     "output_type": "stream",
     "text": [
      "Optimal depth 18 n_estimators = 91 Optimal F1 0.773978315262719\n",
      "0.7784137367130008 0.8111888111888111 0.7400318979266348 0.773978315262719\n"
     ]
    }
   ],
   "source": [
    "received_f1 = 0\n",
    "received_d = 0\n",
    "received_est = 0\n",
    "for est in range (90, 95):\n",
    "    for d in range(1, 25):\n",
    "        clf_2 = RandomForestClassifier(n_estimators=est, max_depth=d, random_state=12345, class_weight='balanced')\n",
    "        clf_2.fit(features_train, target_train)\n",
    "        pred= clf_2.predict(features_valid)\n",
    "        f1 = f1_score(target_valid, pred)\n",
    "        if f1>received_f1:\n",
    "            received_f1=f1\n",
    "            received_est=est\n",
    "            received_d=d      \n",
    "print('Optimal depth', received_d,'n_estimators =', received_est, 'Optimal F1', received_f1)\n",
    "\n",
    "\n",
    "clf_2 = RandomForestClassifier(n_estimators=received_est,\n",
    "                               random_state = 12345,\n",
    "                               max_depth=received_d,\n",
    "                              class_weight='balanced')\n",
    "clf_2 = clf_2.fit(features_train, target_train)\n",
    "pred = clf_2.predict(features_valid)\n",
    "\n",
    "\n",
    "print(accuracy_score(target_valid, pred),\n",
    "precision_score(target_valid, pred),\n",
    "recall_score(target_valid, pred),\n",
    "f1_score(target_valid, pred))"
   ]
  },
  {
   "cell_type": "code",
   "execution_count": 53,
   "id": "2341755c",
   "metadata": {},
   "outputs": [
    {
     "name": "stdout",
     "output_type": "stream",
     "text": [
      "0.6941946034341783 0.7104825291181365 0.6810207336523126 0.6954397394136809\n"
     ]
    }
   ],
   "source": [
    "clf_3 = LogisticRegression(class_weight='balanced')\n",
    "clf_3 = clf_3.fit(features_train, target_train)\n",
    "pred = clf_3.predict(features_valid)\n",
    "\n",
    "\n",
    "print(accuracy_score(target_valid, pred),\n",
    "precision_score(target_valid, pred),\n",
    "recall_score(target_valid, pred),\n",
    "f1_score(target_valid, pred))"
   ]
  },
  {
   "cell_type": "code",
   "execution_count": 106,
   "id": "0ccf8e04",
   "metadata": {},
   "outputs": [
    {
     "name": "stdout",
     "output_type": "stream",
     "text": [
      "0.9451840250587314 0.9039451114922813 0.9741219963031423 0.9377224199288255\n"
     ]
    }
   ],
   "source": [
    "final = RandomForestClassifier(n_estimators=90,\n",
    "                               random_state = 12345,\n",
    "                               max_depth=21,\n",
    "                                )\n",
    "final = final.fit(features_train, target_train)\n",
    "pred = final.predict(features_valid)\n",
    "\n",
    "\n",
    "print(accuracy_score(target_valid, pred),\n",
    "precision_score(target_valid, pred),\n",
    "recall_score(target_valid, pred),\n",
    "f1_score(target_valid, pred))"
   ]
  },
  {
   "cell_type": "code",
   "execution_count": 102,
   "id": "965dd07e",
   "metadata": {},
   "outputs": [],
   "source": [
    "features_valid, features_test, target_valid, target_test = train_test_split(features_valid, target_valid, test_size=0.45, random_state=12345)"
   ]
  },
  {
   "cell_type": "code",
   "execution_count": 103,
   "id": "8fefcf71",
   "metadata": {},
   "outputs": [
    {
     "name": "stdout",
     "output_type": "stream",
     "text": [
      "0.9464114832535885 0.9211538461538461 0.9696356275303644 0.9447731755424064\n"
     ]
    }
   ],
   "source": [
    "pred = final.predict(features_test)\n",
    "print(accuracy_score(target_test, pred),\n",
    "precision_score(target_test, pred),\n",
    "recall_score(target_test, pred),\n",
    "f1_score(target_test, pred))"
   ]
  },
  {
   "cell_type": "code",
   "execution_count": 98,
   "id": "13d1387a",
   "metadata": {},
   "outputs": [
    {
     "data": {
      "text/plain": [
       "0    2322\n",
       "dtype: int64"
      ]
     },
     "execution_count": 98,
     "metadata": {},
     "output_type": "execute_result"
    }
   ],
   "source": [
    "pred_const = pd.Series([0]*len(target_valid))\n",
    "pred_const.value_counts()"
   ]
  },
  {
   "cell_type": "code",
   "execution_count": 101,
   "id": "3bd4ef5e",
   "metadata": {},
   "outputs": [
    {
     "name": "stdout",
     "output_type": "stream",
     "text": [
      "accuracy_score const 0.5542635658914729\n",
      "accuracy_score final 0.9444444444444444\n"
     ]
    }
   ],
   "source": [
    "print('accuracy_score const', accuracy_score(target_valid, pred_const))\n",
    "print('accuracy_score final', accuracy_score(target_valid, pred))"
   ]
  },
  {
   "cell_type": "code",
   "execution_count": 104,
   "id": "31a14553",
   "metadata": {},
   "outputs": [
    {
     "name": "stdout",
     "output_type": "stream",
     "text": [
      "              precision    recall  f1-score   support\n",
      "\n",
      " Non-churned       0.97      0.93      0.95       551\n",
      "     Churned       0.92      0.97      0.94       494\n",
      "\n",
      "    accuracy                           0.95      1045\n",
      "   macro avg       0.95      0.95      0.95      1045\n",
      "weighted avg       0.95      0.95      0.95      1045\n",
      "\n"
     ]
    }
   ],
   "source": [
    "report = classification_report(target_test, final.predict(features_test), target_names=['Non-churned', 'Churned'])\n",
    "print(report)"
   ]
  },
  {
   "cell_type": "code",
   "execution_count": null,
   "id": "e34078d8",
   "metadata": {},
   "outputs": [],
   "source": []
  }
 ],
 "metadata": {
  "kernelspec": {
   "display_name": "Python 3 (ipykernel)",
   "language": "python",
   "name": "python3"
  },
  "language_info": {
   "codemirror_mode": {
    "name": "ipython",
    "version": 3
   },
   "file_extension": ".py",
   "mimetype": "text/x-python",
   "name": "python",
   "nbconvert_exporter": "python",
   "pygments_lexer": "ipython3",
   "version": "3.9.7"
  }
 },
 "nbformat": 4,
 "nbformat_minor": 5
}
